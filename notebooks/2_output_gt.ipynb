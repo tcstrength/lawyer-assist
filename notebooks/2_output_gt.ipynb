{
 "cells": [
  {
   "cell_type": "code",
   "execution_count": 1,
   "metadata": {},
   "outputs": [
    {
     "name": "stdout",
     "output_type": "stream",
     "text": [
      "/Users/tccuong1404/Documents/Project/lawyer-assist/src\n"
     ]
    },
    {
     "name": "stderr",
     "output_type": "stream",
     "text": [
      "/Users/tccuong1404/Library/Caches/pypoetry/virtualenvs/lawyer-assist-hoWIZQcw-py3.12/lib/python3.12/site-packages/IPython/core/magics/osm.py:417: UserWarning: This is now an optional IPython functionality, setting dhist requires you to install the `pickleshare` library.\n",
      "  self.shell.db['dhist'] = compress_dhist(dhist)[-100:]\n"
     ]
    }
   ],
   "source": [
    "%cd ../src\n",
    "%load_ext autoreload\n",
    "%autoreload 2"
   ]
  },
  {
   "cell_type": "code",
   "execution_count": 2,
   "metadata": {},
   "outputs": [
    {
     "name": "stderr",
     "output_type": "stream",
     "text": [
      "/Users/tccuong1404/Library/Caches/pypoetry/virtualenvs/lawyer-assist-hoWIZQcw-py3.12/lib/python3.12/site-packages/sentence_transformers/cross_encoder/CrossEncoder.py:11: TqdmWarning: IProgress not found. Please update jupyter and ipywidgets. See https://ipywidgets.readthedocs.io/en/stable/user_install.html\n",
      "  from tqdm.autonotebook import tqdm, trange\n"
     ]
    }
   ],
   "source": [
    "from util import config"
   ]
  },
  {
   "cell_type": "code",
   "execution_count": 3,
   "metadata": {},
   "outputs": [
    {
     "name": "stdout",
     "output_type": "stream",
     "text": [
      "/Users/tccuong1404/Documents/Project/lawyer-assist/data/qna/e77dd4a4c79cc8337dcead263fa4cc23.json\n"
     ]
    }
   ],
   "source": [
    "from glob import glob\n",
    "paths = glob(config.DATA_QNA_DIR + \"/*\")\n",
    "print(paths[0])"
   ]
  },
  {
   "cell_type": "code",
   "execution_count": 4,
   "metadata": {},
   "outputs": [
    {
     "name": "stderr",
     "output_type": "stream",
     "text": [
      "100%|██████████| 1551/1551 [00:00<00:00, 7595.64it/s]\n"
     ]
    }
   ],
   "source": [
    "from tqdm import tqdm\n",
    "import pandas as pd\n",
    "import json\n",
    "res = [] \n",
    "for x in tqdm(paths):\n",
    "    data = json.load(open(x))[\"data\"]\n",
    "    for t in data:\n",
    "        if not (\"question\" in t and \"answer\" in t):\n",
    "            continue\n",
    "        \n",
    "        if t[\"question\"] and t[\"answer\"]:\n",
    "            res.append(t)"
   ]
  },
  {
   "cell_type": "code",
   "execution_count": 7,
   "metadata": {},
   "outputs": [
    {
     "name": "stderr",
     "output_type": "stream",
     "text": [
      "Fetching 6 files: 100%|██████████| 6/6 [00:00<00:00, 110862.66it/s]\n",
      "\u001b[32m2024-08-31 07:41:28.518\u001b[0m | \u001b[1mINFO    \u001b[0m | \u001b[36mapi.models._gemma\u001b[0m:\u001b[36m__init__\u001b[0m:\u001b[36m20\u001b[0m - \u001b[1mModel loaded: tcstrength/gemma-2b-lawyer-assist\u001b[0m\n"
     ]
    },
    {
     "data": {
      "text/plain": [
       "<generator object stream_generate at 0x575bff6e0>"
      ]
     },
     "execution_count": 7,
     "metadata": {},
     "output_type": "execute_result"
    }
   ],
   "source": [
    "from api.models import GemmaModel_MLX\n",
    "\n",
    "model = GemmaModel_MLX()\n",
    "model.generate(\"Ngân hàng có cung cấp thông tin chuyển tiền\")"
   ]
  },
  {
   "cell_type": "code",
   "execution_count": 13,
   "metadata": {},
   "outputs": [
    {
     "name": "stderr",
     "output_type": "stream",
     "text": [
      "100%|██████████| 2149/2149 [13:40:48<00:00, 22.92s/it]  \n"
     ]
    }
   ],
   "source": [
    "for item in tqdm(res):\n",
    "    resp = model.generate(item[\"question\"])\n",
    "    resp = \"\".join([a for a in resp])\n",
    "    item[\"finetune\"] = resp"
   ]
  },
  {
   "cell_type": "code",
   "execution_count": 15,
   "metadata": {},
   "outputs": [],
   "source": [
    "df = pd.DataFrame(res)"
   ]
  },
  {
   "cell_type": "code",
   "execution_count": 17,
   "metadata": {},
   "outputs": [],
   "source": [
    "df = df.drop(columns=[\"reference\"])"
   ]
  },
  {
   "cell_type": "code",
   "execution_count": 18,
   "metadata": {},
   "outputs": [
    {
     "data": {
      "text/plain": [
       "'/Users/tccuong1404/Documents/Project/lawyer-assist/data/qna'"
      ]
     },
     "execution_count": 18,
     "metadata": {},
     "output_type": "execute_result"
    }
   ],
   "source": [
    "config.DATA_QNA_DIR"
   ]
  },
  {
   "cell_type": "code",
   "execution_count": 19,
   "metadata": {},
   "outputs": [],
   "source": [
    "df.to_parquet(\"/Users/tccuong1404/Documents/Project/lawyer-assist/data/data.parquet\")"
   ]
  },
  {
   "cell_type": "code",
   "execution_count": null,
   "metadata": {},
   "outputs": [],
   "source": []
  }
 ],
 "metadata": {
  "kernelspec": {
   "display_name": "lawyer-assist-hoWIZQcw-py3.12",
   "language": "python",
   "name": "python3"
  },
  "language_info": {
   "codemirror_mode": {
    "name": "ipython",
    "version": 3
   },
   "file_extension": ".py",
   "mimetype": "text/x-python",
   "name": "python",
   "nbconvert_exporter": "python",
   "pygments_lexer": "ipython3",
   "version": "3.12.4"
  }
 },
 "nbformat": 4,
 "nbformat_minor": 2
}
